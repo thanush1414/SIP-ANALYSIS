{
 "cells": [
  {
   "cell_type": "code",
   "execution_count": 1,
   "metadata": {},
   "outputs": [],
   "source": [
    "import pandas as pd\n",
    "import os"
   ]
  },
  {
   "cell_type": "code",
   "execution_count": 2,
   "metadata": {},
   "outputs": [],
   "source": [
    "normal_directory = \"Normal\"\n",
    "attack_directory = \"Attack\"\n",
    "\n",
    "# Create lists to store normal and attack DataFrames\n",
    "normal_dataframes = []\n",
    "attack_dataframes = []\n",
    "\n",
    "# Loop through normal traffic files\n",
    "for filename in os.listdir(normal_directory):\n",
    "    if filename.endswith(\".csv\"):\n",
    "        file_path = os.path.join(normal_directory, filename)\n",
    "        df = pd.read_csv(file_path)\n",
    "        normal_dataframes.append(df)\n",
    "\n",
    "# Loop through attack traffic files\n",
    "for filename in os.listdir(attack_directory):\n",
    "    if filename.endswith(\".csv\"):\n",
    "        file_path = os.path.join(attack_directory, filename)\n",
    "        df = pd.read_csv(file_path)\n",
    "        attack_dataframes.append(df)\n",
    "\n",
    "# Concatenate normal and attack DataFrames separately\n",
    "normal_concatenated_df = pd.concat(normal_dataframes, ignore_index=True)\n",
    "attack_concatenated_df = pd.concat(attack_dataframes, ignore_index=True)\n",
    "\n",
    "# Assign labels to the concatenated DataFrames\n",
    "normal_concatenated_df['label'] = 'normal'\n",
    "attack_concatenated_df['label'] = 'attack'\n",
    "\n",
    "# Combine normal and attack DataFrames into a single DataFrame\n",
    "combined_df = pd.concat([normal_concatenated_df, attack_concatenated_df], ignore_index=True)"
   ]
  },
  {
   "cell_type": "code",
   "execution_count": 5,
   "metadata": {},
   "outputs": [],
   "source": [
    "import os\n",
    "import pandas as pd\n",
    "from sklearn.utils import resample\n",
    "import random\n",
    "\n",
    "normal_directory = \"Normal\"\n",
    "attack_directory = \"Attack\"\n",
    "# Specify the desired percentage of rows from each normal CSV file\n",
    "normal_file_contribution_percentage = 0.5  # 20% of each normal file\n",
    "\n",
    "# Create lists to store normal and attack DataFrames\n",
    "normal_dataframes = []\n",
    "attack_dataframes = []\n",
    "\n",
    "# Loop through normal traffic files\n",
    "for filename in os.listdir(normal_directory):\n",
    "    if filename.endswith(\".csv\"):\n",
    "        file_path = os.path.join(normal_directory, filename)\n",
    "        df = pd.read_csv(file_path)\n",
    "        num_rows = len(df)\n",
    "        desired_rows_from_file = int(num_rows * normal_file_contribution_percentage)\n",
    "        sampled_indices = random.sample(range(num_rows), desired_rows_from_file)\n",
    "        sampled_df = df.iloc[sampled_indices, :]\n",
    "        normal_dataframes.append(sampled_df)\n",
    "\n",
    "# Loop through attack traffic files\n",
    "for filename in os.listdir(attack_directory):\n",
    "    if filename.endswith(\".csv\"):\n",
    "        file_path = os.path.join(attack_directory, filename)\n",
    "        df = pd.read_csv(file_path)\n",
    "        attack_dataframes.append(df)\n",
    "\n",
    "# Concatenate normal and attack DataFrames separately\n",
    "normal_concatenated_df = pd.concat(normal_dataframes, ignore_index=True)\n",
    "attack_concatenated_df = pd.concat(attack_dataframes, ignore_index=True)\n",
    "\n",
    "# Assign labels to the DataFrames\n",
    "normal_concatenated_df['label'] = 'normal'\n",
    "attack_concatenated_df['label'] = 'attack'\n",
    "\n",
    "# Combine normal and attack DataFrames into a single DataFrame\n",
    "combined_df = pd.concat([normal_concatenated_df, attack_concatenated_df], ignore_index=True)"
   ]
  },
  {
   "cell_type": "code",
   "execution_count": 6,
   "metadata": {},
   "outputs": [],
   "source": [
    "combined_df.to_csv('combined_df_1.csv')"
   ]
  },
  {
   "cell_type": "code",
   "execution_count": 7,
   "metadata": {},
   "outputs": [
    {
     "data": {
      "text/plain": [
       "normal    1629681\n",
       "attack    1180940\n",
       "Name: label, dtype: int64"
      ]
     },
     "execution_count": 7,
     "metadata": {},
     "output_type": "execute_result"
    }
   ],
   "source": [
    "combined_df['label'].value_counts()"
   ]
  },
  {
   "cell_type": "code",
   "execution_count": null,
   "metadata": {},
   "outputs": [],
   "source": []
  }
 ],
 "metadata": {
  "kernelspec": {
   "display_name": "Python 3",
   "language": "python",
   "name": "python3"
  },
  "language_info": {
   "codemirror_mode": {
    "name": "ipython",
    "version": 3
   },
   "file_extension": ".py",
   "mimetype": "text/x-python",
   "name": "python",
   "nbconvert_exporter": "python",
   "pygments_lexer": "ipython3",
   "version": "3.11.8"
  }
 },
 "nbformat": 4,
 "nbformat_minor": 2
}
